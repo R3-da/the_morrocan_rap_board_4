{
 "cells": [
  {
   "cell_type": "code",
   "execution_count": 4,
   "metadata": {},
   "outputs": [
    {
     "name": "stdout",
     "output_type": "stream",
     "text": [
      "Sofia Vato, Iguidr, Breezy, Demon, Diib, Dollypran, Draganov, Drizzy, Fatmizzo, Furelise, Gnawi, Guzman, Ily, Inkonnu, Issam, Klassa, Komy, Kouz1, Krtasnssa, L7a9ed, Lbenj, Lmorphine, Lmoutchou, Madd, Maestro, Manal, Mastaflow, Mons, Mrcrazy, Muslim, Nessyou, Ouenza, Pakkun, Pauseflow, Profitza3im, Sa3erman, Spleux, Stormy, Tendresse, Uzishettan, Vargas, West, 7ari, 7liwa, 7toun, 8ird, 21tach, 777ym, Abduh, Ali Ssamid, Anys, Bo9al, Dada, Dizzy Dros, Don Bigg, Elgrande Toto, Figoshin, Khtek, Lferda, Moro, Nores, Saad Dsouli, Shobee, Small X, Snor, Tagne, Tflow, X7kira, "
     ]
    }
   ],
   "source": [
    "l = [\"Sofia Vato\",\n",
    "        \"Iguidr\",\n",
    "        \"Breezy\",\n",
    "        \"Demon\",\n",
    "        \"Diib\",\n",
    "        \"Dollypran\",\n",
    "        \"Draganov\",\n",
    "        \"Drizzy\",\n",
    "        \"Fatmizzo\",\n",
    "        \"Furelise\",\n",
    "        \"Gnawi\",\n",
    "        \"Guzman\",\n",
    "        \"Ily\",\n",
    "        \"Inkonnu\",\n",
    "        \"Issam\",\n",
    "        \"Klassa\",\n",
    "        \"Komy\",\n",
    "        \"Kouz1\",\n",
    "        \"Krtasnssa\",\n",
    "        \"L7a9ed\",\n",
    "        \"Lbenj\",\n",
    "        \"Lmorphine\",\n",
    "        \"Lmoutchou\",\n",
    "        \"Madd\",\n",
    "        \"Maestro\",\n",
    "        \"Manal\",\n",
    "        \"Mastaflow\",\n",
    "        \"Mons\",\n",
    "        \"Mrcrazy\",\n",
    "        \"Muslim\",\n",
    "        \"Nessyou\",\n",
    "        \"Ouenza\",\n",
    "        \"Pakkun\",\n",
    "        \"Pauseflow\",\n",
    "        \"Profitza3im\",\n",
    "        \"Sa3erman\",\n",
    "        \"Spleux\",\n",
    "        \"Stormy\",\n",
    "        \"Tendresse\",\n",
    "        \"Uzishettan\",\n",
    "        \"Vargas\",\n",
    "        \"West\",\n",
    "        \"7ari\",\n",
    "        \"7liwa\",\n",
    "        \"7toun\",\n",
    "        \"8ird\",\n",
    "        \"21tach\",\n",
    "        \"777ym\",\n",
    "        \"Abduh\",\n",
    "        \"Ali Ssamid\",\n",
    "        \"Anys\",\n",
    "        \"Bo9al\",\n",
    "        \"Dada\",\n",
    "        \"Dizzy Dros\",\n",
    "        \"Don Bigg\",\n",
    "        \"Elgrande Toto\",\n",
    "        \"Figoshin\",\n",
    "        \"Khtek\",\n",
    "        \"Lferda\",\n",
    "        \"Moro\",\n",
    "        \"Nores\",\n",
    "        \"Saad Dsouli\",\n",
    "        \"Shobee\",\n",
    "        \"Small X\",\n",
    "        \"Snor\",\n",
    "        \"Tagne\",\n",
    "        \"Tflow\",\n",
    "        \"X7kira\"]\n",
    "for name in l:\n",
    "    print(name ,end=\", \")"
   ]
  }
 ],
 "metadata": {
  "interpreter": {
   "hash": "c8bf7ed05fbef5c9ff3345d142af8ad303ead8c4a9c90a99e7ad81acfc544e45"
  },
  "kernelspec": {
   "display_name": "Python 3.8.8 ('base')",
   "language": "python",
   "name": "python3"
  },
  "language_info": {
   "codemirror_mode": {
    "name": "ipython",
    "version": 3
   },
   "file_extension": ".py",
   "mimetype": "text/x-python",
   "name": "python",
   "nbconvert_exporter": "python",
   "pygments_lexer": "ipython3",
   "version": "3.8.8"
  },
  "orig_nbformat": 4
 },
 "nbformat": 4,
 "nbformat_minor": 2
}
